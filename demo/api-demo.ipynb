{
 "cells": [
  {
   "cell_type": "markdown",
   "id": "9aab9c72-916c-4799-be36-08022885cb0b",
   "metadata": {},
   "source": [
    "# Slivka Client Demo\n",
    "\n",
    "## Introduction\n",
    "\n",
    "This notebook demonstrates how to use the Slivka Python client to interact with a Slivka server. You'll learn how to install the client, query available services, submit a job, and retrieve the results.\n",
    "\n",
    "### Install Slivka Client"
   ]
  },
  {
   "cell_type": "code",
   "execution_count": 1,
   "id": "aa28414f",
   "metadata": {},
   "outputs": [],
   "source": [
    "# %pip install slivka-client==1.2.1b1\n"
   ]
  },
  {
   "cell_type": "markdown",
   "id": "2f35cb6e-a4a7-495f-97ba-8cb4f88d6623",
   "metadata": {},
   "source": [
    "### Configure Slivka Server URL"
   ]
  },
  {
   "cell_type": "code",
   "execution_count": 2,
   "id": "0643726a-7eb6-4641-a091-20d7828267b9",
   "metadata": {},
   "outputs": [
    {
     "name": "stdout",
     "output_type": "stream",
     "text": [
      "Using Slivka server at: http://localhost:3203/\n"
     ]
    }
   ],
   "source": [
    "# Set the Slivka server URL\n",
    "local_slivka_url = 'http://localhost:3203/'\n",
    "# local_slivka_url = 'http://slivka-bio:8000/'  # For Slivka running in Docker\n",
    "dundee_slivka_url = 'https://www.compbio.dundee.ac.uk/slivka/'\n",
    "\n",
    "# Set to True to use the local Slivka server\n",
    "use_local_slivka = True\n",
    "\n",
    "slivka_server_url = local_slivka_url if use_local_slivka else dundee_slivka_url\n",
    "print(f\"Using Slivka server at: {slivka_server_url}\")\n"
   ]
  },
  {
   "cell_type": "markdown",
   "id": "5de8e575-d3ed-4306-94a4-cbf09285d74b",
   "metadata": {},
   "source": [
    "### Initialize Slivka Client"
   ]
  },
  {
   "cell_type": "code",
   "execution_count": 3,
   "id": "79922011-0e2a-483d-be53-881827036122",
   "metadata": {},
   "outputs": [
    {
     "name": "stdout",
     "output_type": "stream",
     "text": [
      "Connected to Slivka server at: http://localhost:3203/\n"
     ]
    },
    {
     "name": "stderr",
     "output_type": "stream",
     "text": [
      "/Users/smacgowan/Active/ligysis-drsasp-template-integration/LIGYSIS-web/.venv/lib/python3.9/site-packages/urllib3/__init__.py:35: NotOpenSSLWarning: urllib3 v2 only supports OpenSSL 1.1.1+, currently the 'ssl' module is compiled with 'LibreSSL 2.8.3'. See: https://github.com/urllib3/urllib3/issues/3020\n",
      "  warnings.warn(\n"
     ]
    }
   ],
   "source": [
    "from slivka_client import SlivkaClient\n",
    "\n",
    "client = SlivkaClient(slivka_server_url)\n",
    "print(f\"Connected to Slivka server at: {client.url}\")\n"
   ]
  },
  {
   "cell_type": "markdown",
   "id": "d1b46ecf-09ff-45f6-b857-34bacd97ec18",
   "metadata": {},
   "source": [
    "### Query Available Services"
   ]
  },
  {
   "cell_type": "code",
   "execution_count": 4,
   "id": "c51d0f14-ca7a-41a7-aab5-68318a8da40b",
   "metadata": {},
   "outputs": [
    {
     "name": "stdout",
     "output_type": "stream",
     "text": [
      "Service name: IUPred, ID: iupred\n",
      "Service name: Example Service, ID: example\n",
      "Service name: GlobPlot, ID: globplot\n",
      "Service name: JPred, ID: jpred\n",
      "Service name: Jronn, ID: jronn\n",
      "Service name: MAFFT, ID: mafft\n",
      "Service name: MSAProbs, ID: msaprobs\n",
      "Service name: MUSCLE, ID: muscle\n",
      "Service name: ProbCons, ID: probcons\n",
      "Service name: RNAalifold, ID: rnaalifold\n",
      "Service name: TCoffee, ID: tcoffee\n",
      "Service name: NoD, ID: nod\n",
      "Service name: TPpred3, ID: tppred3\n",
      "Service name: ColabFold, ID: colabfold\n",
      "Service name: LIGYSIS, ID: ligysis\n",
      "Service name: AACon, ID: aacon\n",
      "Service name: ClustalO, ID: clustalo\n",
      "Service name: ClustalW, ID: clustalw\n",
      "Service name: DisEMBL, ID: disembl\n"
     ]
    }
   ],
   "source": [
    "# List available services\n",
    "for service in client.services:\n",
    "    print(f\"Service name: {service.name}, ID: {service.id}\")\n"
   ]
  },
  {
   "cell_type": "markdown",
   "id": "dc87fbf1-9397-4b60-bbeb-54fa47ef490c",
   "metadata": {},
   "source": [
    "### Select Ligysis Service\n"
   ]
  },
  {
   "cell_type": "code",
   "execution_count": 5,
   "id": "141bb7c3-a4b9-450e-8d40-209c8a88aba0",
   "metadata": {},
   "outputs": [
    {
     "name": "stdout",
     "output_type": "stream",
     "text": [
      "Selected service: LIGYSIS (ID: ligysis)\n"
     ]
    }
   ],
   "source": [
    "service = client['ligysis']\n",
    "print(f\"Selected service: {service.name} (ID: {service.id})\")\n"
   ]
  },
  {
   "cell_type": "markdown",
   "id": "719dab59",
   "metadata": {},
   "source": [
    "### Submit a Job to FragSys\n"
   ]
  },
  {
   "cell_type": "code",
   "execution_count": null,
   "id": "ef8e8dc4-c106-487e-ae05-8736a140732f",
   "metadata": {},
   "outputs": [
    {
     "name": "stdout",
     "output_type": "stream",
     "text": [
      "Job submitted with ID: Z2QXJJxXXaZ63QLk\n"
     ]
    }
   ],
   "source": [
    "# Define parameters for the job\n",
    "data = {\n",
    "    'uniprot_id': 'Q9UGL1',\n",
    "    'format': 'mmcif',\n",
    "    'variants': True,\n",
    "    'override': True,\n",
    "    'clust_method': 'average',\n",
    "    'clust_dist': 0.5,\n",
    "    'hmm_iters': 3\n",
    "}\n",
    "\n",
    "# Specify input directory or tarball\n",
    "# input_dir_path = 'data/input_dir'\n",
    "tarball_path = 'data/Q9UGL1_cif_IN_small.tar.gz'\n",
    "\n",
    "# Option 1: Upload individual files\n",
    "# from pathlib import Path\n",
    "# files = {f\"file_{i}\": open(str(file), 'rb') for i, file in enumerate(Path(input_dir_path).glob('*'))}\n",
    "\n",
    "# Option 2: Upload tarball\n",
    "with open(tarball_path, 'rb') as tarball:\n",
    "    files = {'input_dir': tarball}\n",
    "\n",
    "    # Submit the job\n",
    "    job = service.submit_job(data=data, files=files)\n",
    "    print(f\"Job submitted with ID: {job.id}\")"
   ]
  },
  {
   "cell_type": "markdown",
   "id": "145278ca-9af1-46a7-9a27-81c9c34150bb",
   "metadata": {},
   "source": [
    "### Monitor Job Status\n"
   ]
  },
  {
   "cell_type": "code",
   "execution_count": 7,
   "id": "e1065be7-bcb7-4341-a999-443eadd898ad",
   "metadata": {},
   "outputs": [
    {
     "name": "stdout",
     "output_type": "stream",
     "text": [
      "Job status: PENDING\n",
      "Job status: RUNNING\n",
      "Job status: RUNNING\n",
      "Job status: RUNNING\n",
      "Job status: RUNNING\n",
      "Job status: RUNNING\n",
      "Job status: RUNNING\n",
      "Job status: RUNNING\n",
      "Job status: RUNNING\n",
      "Job status: RUNNING\n",
      "Job completed with status: COMPLETED\n"
     ]
    }
   ],
   "source": [
    "import time\n",
    "\n",
    "# Poll the job status until it is completed\n",
    "while job.status not in ('COMPLETED', 'FAILED'):\n",
    "    print(f\"Job status: {job.status}\")\n",
    "    time.sleep(10)\n",
    "\n",
    "print(f\"Job completed with status: {job.status}\")\n"
   ]
  },
  {
   "cell_type": "markdown",
   "id": "29687003-011d-42c9-ad37-412290e0f2b8",
   "metadata": {},
   "source": [
    "### Retrieve Job Results\n"
   ]
  },
  {
   "cell_type": "code",
   "execution_count": 8,
   "id": "64c1cd23-f035-4426-b40e-4b4138d2305b",
   "metadata": {},
   "outputs": [
    {
     "name": "stdout",
     "output_type": "stream",
     "text": [
      "File Z2QXJJxXXaZ63QLk/OUT/input_structures/arpeggio/5fyu_updated.json downloaded to ./downloads/Z2QXJJxXXaZ63QLk/OUT/input_structures/arpeggio/5fyu_updated.json\n",
      "File Z2QXJJxXXaZ63QLk/OUT/input_structures/arpeggio/5fy9_updated.json downloaded to ./downloads/Z2QXJJxXXaZ63QLk/OUT/input_structures/arpeggio/5fy9_updated.json\n",
      "File Z2QXJJxXXaZ63QLk/OUT/input_structures/arpeggio/5fyu_updated_proc.pkl downloaded to ./downloads/Z2QXJJxXXaZ63QLk/OUT/input_structures/arpeggio/5fyu_updated_proc.pkl\n",
      "File Z2QXJJxXXaZ63QLk/OUT/input_structures/arpeggio/5fy9_updated_proc.pkl downloaded to ./downloads/Z2QXJJxXXaZ63QLk/OUT/input_structures/arpeggio/5fy9_updated_proc.pkl\n",
      "File Z2QXJJxXXaZ63QLk/OUT/input_structures/simple_cifs/input_structures_average_0.5.defattr downloaded to ./downloads/Z2QXJJxXXaZ63QLk/OUT/input_structures/simple_cifs/input_structures_average_0.5.defattr\n",
      "File Z2QXJJxXXaZ63QLk/OUT/input_structures/simple_cifs/input_structures_average_0.5.cxc downloaded to ./downloads/Z2QXJJxXXaZ63QLk/OUT/input_structures/simple_cifs/input_structures_average_0.5.cxc\n",
      "File Z2QXJJxXXaZ63QLk/OUT/input_structures/clean_pdbs/5fyu_updated.clean.pdb downloaded to ./downloads/Z2QXJJxXXaZ63QLk/OUT/input_structures/clean_pdbs/5fyu_updated.clean.pdb\n",
      "File Z2QXJJxXXaZ63QLk/OUT/input_structures/clean_pdbs/5fy9_updated.clean.pdb downloaded to ./downloads/Z2QXJJxXXaZ63QLk/OUT/input_structures/clean_pdbs/5fy9_updated.clean.pdb\n",
      "File Z2QXJJxXXaZ63QLk/OUT/input_structures/dssp/5fyu_updated.supp.dssp downloaded to ./downloads/Z2QXJJxXXaZ63QLk/OUT/input_structures/dssp/5fyu_updated.supp.dssp\n",
      "File Z2QXJJxXXaZ63QLk/OUT/input_structures/dssp/5fy9_updated.supp.dssp downloaded to ./downloads/Z2QXJJxXXaZ63QLk/OUT/input_structures/dssp/5fy9_updated.supp.dssp\n",
      "File Z2QXJJxXXaZ63QLk/OUT/input_structures/dssp/5fyu_updated.supp.csv downloaded to ./downloads/Z2QXJJxXXaZ63QLk/OUT/input_structures/dssp/5fyu_updated.supp.csv\n",
      "File Z2QXJJxXXaZ63QLk/OUT/input_structures/dssp/5fy9_updated.supp.csv downloaded to ./downloads/Z2QXJJxXXaZ63QLk/OUT/input_structures/dssp/5fy9_updated.supp.csv\n",
      "File Z2QXJJxXXaZ63QLk/OUT/input_structures/mappings/5fy9_updated_mapping.csv downloaded to ./downloads/Z2QXJJxXXaZ63QLk/OUT/input_structures/mappings/5fy9_updated_mapping.csv\n",
      "File Z2QXJJxXXaZ63QLk/OUT/input_structures/mappings/5fyu_updated_mapping.csv downloaded to ./downloads/Z2QXJJxXXaZ63QLk/OUT/input_structures/mappings/5fyu_updated_mapping.csv\n",
      "File Z2QXJJxXXaZ63QLk/OUT/input_structures/mappings/5fy9_updated_pdb2up.pkl downloaded to ./downloads/Z2QXJJxXXaZ63QLk/OUT/input_structures/mappings/5fy9_updated_pdb2up.pkl\n",
      "File Z2QXJJxXXaZ63QLk/OUT/input_structures/mappings/5fyu_updated_pdb2up.pkl downloaded to ./downloads/Z2QXJJxXXaZ63QLk/OUT/input_structures/mappings/5fyu_updated_pdb2up.pkl\n",
      "File Z2QXJJxXXaZ63QLk/OUT/input_structures/mappings/5fyu_updated_up2pdb.pkl downloaded to ./downloads/Z2QXJJxXXaZ63QLk/OUT/input_structures/mappings/5fyu_updated_up2pdb.pkl\n",
      "File Z2QXJJxXXaZ63QLk/OUT/input_structures/mappings/5fy9_updated_up2pdb.pkl downloaded to ./downloads/Z2QXJJxXXaZ63QLk/OUT/input_structures/mappings/5fy9_updated_up2pdb.pkl\n",
      "File Z2QXJJxXXaZ63QLk/OUT/input_structures/raw_cifs/5fyu_updated.cif downloaded to ./downloads/Z2QXJJxXXaZ63QLk/OUT/input_structures/raw_cifs/5fyu_updated.cif\n",
      "File Z2QXJJxXXaZ63QLk/OUT/input_structures/raw_cifs/5fy9_updated.cif downloaded to ./downloads/Z2QXJJxXXaZ63QLk/OUT/input_structures/raw_cifs/5fy9_updated.cif\n",
      "File Z2QXJJxXXaZ63QLk/OUT/input_structures/raw_pdbs/5fy9_updated.pdb downloaded to ./downloads/Z2QXJJxXXaZ63QLk/OUT/input_structures/raw_pdbs/5fy9_updated.pdb\n",
      "File Z2QXJJxXXaZ63QLk/OUT/input_structures/raw_pdbs/5fyu_updated.pdb downloaded to ./downloads/Z2QXJJxXXaZ63QLk/OUT/input_structures/raw_pdbs/5fyu_updated.pdb\n",
      "File Z2QXJJxXXaZ63QLk/OUT/input_structures/results/input_structures_bss_ress.pkl downloaded to ./downloads/Z2QXJJxXXaZ63QLk/OUT/input_structures/results/input_structures_bss_ress.pkl\n",
      "File Z2QXJJxXXaZ63QLk/OUT/input_structures/results/input_structures_missense_df.pkl downloaded to ./downloads/Z2QXJJxXXaZ63QLk/OUT/input_structures/results/input_structures_missense_df.pkl\n",
      "File Z2QXJJxXXaZ63QLk/OUT/input_structures/results/input_structures_fps_status.pkl downloaded to ./downloads/Z2QXJJxXXaZ63QLk/OUT/input_structures/results/input_structures_fps_status.pkl\n",
      "File Z2QXJJxXXaZ63QLk/OUT/input_structures/results/input_structures_ress_consvar.pkl downloaded to ./downloads/Z2QXJJxXXaZ63QLk/OUT/input_structures/results/input_structures_ress_consvar.pkl\n",
      "File Z2QXJJxXXaZ63QLk/OUT/input_structures/results/input_structures_ress_RSA.pkl downloaded to ./downloads/Z2QXJJxXXaZ63QLk/OUT/input_structures/results/input_structures_ress_RSA.pkl\n",
      "File Z2QXJJxXXaZ63QLk/OUT/input_structures/results/input_structures_ress_bs_membership.pkl downloaded to ./downloads/Z2QXJJxXXaZ63QLk/OUT/input_structures/results/input_structures_ress_bs_membership.pkl\n",
      "File Z2QXJJxXXaZ63QLk/OUT/input_structures/results/input_structures_bss_RSA_profiles.pkl downloaded to ./downloads/Z2QXJJxXXaZ63QLk/OUT/input_structures/results/input_structures_bss_RSA_profiles.pkl\n",
      "File Z2QXJJxXXaZ63QLk/OUT/input_structures/results/input_structures_ress_AA.pkl downloaded to ./downloads/Z2QXJJxXXaZ63QLk/OUT/input_structures/results/input_structures_ress_AA.pkl\n",
      "File Z2QXJJxXXaZ63QLk/OUT/input_structures/results/input_structures_lig_data.pkl downloaded to ./downloads/Z2QXJJxXXaZ63QLk/OUT/input_structures/results/input_structures_lig_data.pkl\n",
      "File Z2QXJJxXXaZ63QLk/OUT/input_structures/results/input_structures_results_table.pkl downloaded to ./downloads/Z2QXJJxXXaZ63QLk/OUT/input_structures/results/input_structures_results_table.pkl\n",
      "File Z2QXJJxXXaZ63QLk/OUT/input_structures/results/input_structures_bss_SS_profiles.pkl downloaded to ./downloads/Z2QXJJxXXaZ63QLk/OUT/input_structures/results/input_structures_bss_SS_profiles.pkl\n",
      "File Z2QXJJxXXaZ63QLk/OUT/input_structures/results/input_structures_bss_RSA_table.pkl downloaded to ./downloads/Z2QXJJxXXaZ63QLk/OUT/input_structures/results/input_structures_bss_RSA_table.pkl\n",
      "File Z2QXJJxXXaZ63QLk/OUT/input_structures/results/input_structures_bss_table.pkl downloaded to ./downloads/Z2QXJJxXXaZ63QLk/OUT/input_structures/results/input_structures_bss_table.pkl\n",
      "File Z2QXJJxXXaZ63QLk/OUT/input_structures/results/input_structures_ress_SS.pkl downloaded to ./downloads/Z2QXJJxXXaZ63QLk/OUT/input_structures/results/input_structures_ress_SS.pkl\n",
      "File Z2QXJJxXXaZ63QLk/OUT/input_structures/results/input_structures_uniprot_info.pkl downloaded to ./downloads/Z2QXJJxXXaZ63QLk/OUT/input_structures/results/input_structures_uniprot_info.pkl\n",
      "File Z2QXJJxXXaZ63QLk/OUT/input_structures/results/input_structures_ligs_fingerprints.pkl downloaded to ./downloads/Z2QXJJxXXaZ63QLk/OUT/input_structures/results/input_structures_ligs_fingerprints.pkl\n",
      "File Z2QXJJxXXaZ63QLk/OUT/input_structures/results/input_structures_irel_matrix.pkl downloaded to ./downloads/Z2QXJJxXXaZ63QLk/OUT/input_structures/results/input_structures_irel_matrix.pkl\n",
      "File Z2QXJJxXXaZ63QLk/OUT/input_structures/results/input_structures_dssp_mapped.pkl downloaded to ./downloads/Z2QXJJxXXaZ63QLk/OUT/input_structures/results/input_structures_dssp_mapped.pkl\n",
      "File Z2QXJJxXXaZ63QLk/OUT/input_structures/results/input_structures_bss_membership.pkl downloaded to ./downloads/Z2QXJJxXXaZ63QLk/OUT/input_structures/results/input_structures_bss_membership.pkl\n",
      "File Z2QXJJxXXaZ63QLk/OUT/input_structures/results/input_structures_bss_AA_profiles.pkl downloaded to ./downloads/Z2QXJJxXXaZ63QLk/OUT/input_structures/results/input_structures_bss_AA_profiles.pkl\n",
      "File Z2QXJJxXXaZ63QLk/OUT/input_structures/simple_cifs/5fy9_updated.simp.cif downloaded to ./downloads/Z2QXJJxXXaZ63QLk/OUT/input_structures/simple_cifs/5fy9_updated.simp.cif\n",
      "File Z2QXJJxXXaZ63QLk/OUT/input_structures/simple_cifs/5fyu_updated.simp.cif downloaded to ./downloads/Z2QXJJxXXaZ63QLk/OUT/input_structures/simple_cifs/5fyu_updated.simp.cif\n",
      "File Z2QXJJxXXaZ63QLk/OUT/input_structures/stamp_out/stamp_rough.trans downloaded to ./downloads/Z2QXJJxXXaZ63QLk/OUT/input_structures/stamp_out/stamp_rough.trans\n",
      "File Z2QXJJxXXaZ63QLk/OUT/input_structures/stamp_out/input_structures_stamp.mat downloaded to ./downloads/Z2QXJJxXXaZ63QLk/OUT/input_structures/stamp_out/input_structures_stamp.mat\n",
      "File Z2QXJJxXXaZ63QLk/OUT/input_structures/stamp_out/input_structures_stamp.1 downloaded to ./downloads/Z2QXJJxXXaZ63QLk/OUT/input_structures/stamp_out/input_structures_stamp.1\n",
      "File Z2QXJJxXXaZ63QLk/OUT/input_structures/supp_cifs/5fy9_updated.supp.cif downloaded to ./downloads/Z2QXJJxXXaZ63QLk/OUT/input_structures/supp_cifs/5fy9_updated.supp.cif\n",
      "File Z2QXJJxXXaZ63QLk/OUT/input_structures/supp_cifs/5fyu_updated.supp.cif downloaded to ./downloads/Z2QXJJxXXaZ63QLk/OUT/input_structures/supp_cifs/5fyu_updated.supp.cif\n",
      "File Z2QXJJxXXaZ63QLk/OUT/input_structures/supp_pdbs/5fy9_updated.supp.pdb downloaded to ./downloads/Z2QXJJxXXaZ63QLk/OUT/input_structures/supp_pdbs/5fy9_updated.supp.pdb\n",
      "File Z2QXJJxXXaZ63QLk/OUT/input_structures/supp_pdbs/5fyu_updated.supp.pdb downloaded to ./downloads/Z2QXJJxXXaZ63QLk/OUT/input_structures/supp_pdbs/5fyu_updated.supp.pdb\n",
      "File Z2QXJJxXXaZ63QLk/OUT/input_structures/varalign/input_structures_rf.sto downloaded to ./downloads/Z2QXJJxXXaZ63QLk/OUT/input_structures/varalign/input_structures_rf.sto\n",
      "File Z2QXJJxXXaZ63QLk/OUT/input_structures/varalign/input_structures_rf_human.sto downloaded to ./downloads/Z2QXJJxXXaZ63QLk/OUT/input_structures/varalign/input_structures_rf_human.sto\n",
      "File Z2QXJJxXXaZ63QLk/OUT/input_structures/varalign/input_structures.sto downloaded to ./downloads/Z2QXJJxXXaZ63QLk/OUT/input_structures/varalign/input_structures.sto\n",
      "File Z2QXJJxXXaZ63QLk/OUT/input_structures/varalign/input_structures_rf_human_missense_variants_seqs.sto downloaded to ./downloads/Z2QXJJxXXaZ63QLk/OUT/input_structures/varalign/input_structures_rf_human_missense_variants_seqs.sto\n"
     ]
    }
   ],
   "source": [
    "import os\n",
    "\n",
    "# Download each file in the job results\n",
    "for file in job.files:\n",
    "    download_path = f\"./downloads/{file.id}\"\n",
    "    os.makedirs(os.path.dirname(download_path), exist_ok=True)\n",
    "    file.dump(download_path)\n",
    "    print(f\"File {file.id} downloaded to {download_path}\")"
   ]
  },
  {
   "cell_type": "code",
   "execution_count": null,
   "id": "89c56157",
   "metadata": {},
   "outputs": [],
   "source": []
  }
 ],
 "metadata": {
  "kernelspec": {
   "display_name": ".venv",
   "language": "python",
   "name": "python3"
  },
  "language_info": {
   "codemirror_mode": {
    "name": "ipython",
    "version": 3
   },
   "file_extension": ".py",
   "mimetype": "text/x-python",
   "name": "python",
   "nbconvert_exporter": "python",
   "pygments_lexer": "ipython3",
   "version": "3.9.6"
  }
 },
 "nbformat": 4,
 "nbformat_minor": 5
}
